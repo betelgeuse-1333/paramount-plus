{
 "cells": [
  {
   "cell_type": "markdown",
   "source": [
    "In order to run this , the user will need to have postgres loaded onto their system.\n",
    "\n",
    "Once installed they will need to create a user with create database and create table permissions.\n",
    "\n",
    "If your user and password values differ from the default, set cust_constants to `Y` and update the values in the dictionary `constants`\n",
    "\n",
    "To use the system defaults, simply set the variable cust_constants =`N`"
   ],
   "metadata": {
    "collapsed": false
   }
  },
  {
   "cell_type": "code",
   "execution_count": 1,
   "outputs": [
    {
     "name": "stdout",
     "output_type": "stream",
     "text": [
      "The current branch is development\n"
     ]
    }
   ],
   "source": [
    "from config import DbConfig\n",
    "from database import postgres_create_database as pcd\n",
    "from database import postgres_create_tables as pct"
   ],
   "metadata": {
    "collapsed": false
   }
  },
  {
   "cell_type": "code",
   "execution_count": 2,
   "outputs": [],
   "source": [
    "cust_constants = \"N\"\n",
    "\n",
    "db_constants = {\"host\": \"localhost\",\n",
    "                \"port\": 5432,\n",
    "                \"user\": \"\",\n",
    "                \"password\": \"\",\n",
    "                \"template_database\":\"template1\",\n",
    "                \"schema\":\"\",\n",
    "                \"database\":\"paramountplus\",\n",
    "                \"table_names\":{\"post_meta\":\"post_meta\",\n",
    "                               \"comment_text\":\"comment_text\",\n",
    "                               \"comment_info\":\"comment_info\"}}"
   ],
   "metadata": {
    "collapsed": false
   }
  },
  {
   "cell_type": "code",
   "execution_count": 3,
   "outputs": [],
   "source": [
    "if cust_constants ==\"N\":\n",
    "    config_obj = DbConfig()\n",
    "else:\n",
    "    config_obj = DbConfig(config=db_constants)"
   ],
   "metadata": {
    "collapsed": false
   }
  },
  {
   "cell_type": "markdown",
   "source": [
    "Begin by creating the paramountplus database"
   ],
   "metadata": {
    "collapsed": false
   }
  },
  {
   "cell_type": "code",
   "execution_count": null,
   "outputs": [],
   "source": [
    "pcd.create_database(config_obj)\n",
    "pcd.create_schema(config_obj)"
   ],
   "metadata": {
    "collapsed": false
   }
  },
  {
   "cell_type": "markdown",
   "source": [
    "Next Create the 3 tables needed to house the data sets"
   ],
   "metadata": {
    "collapsed": false
   }
  },
  {
   "cell_type": "code",
   "execution_count": 6,
   "outputs": [
    {
     "name": "stdout",
     "output_type": "stream",
     "text": [
      "Table comment_text created\n"
     ]
    }
   ],
   "source": [
    "pct.create_post_meta_table()\n",
    "pct.create_comment_text_table()\n",
    "pct.create_comment_info_table()"
   ],
   "metadata": {
    "collapsed": false
   }
  },
  {
   "cell_type": "code",
   "execution_count": null,
   "outputs": [],
   "source": [],
   "metadata": {
    "collapsed": false
   }
  }
 ],
 "metadata": {
  "kernelspec": {
   "display_name": "Python 3",
   "language": "python",
   "name": "python3"
  },
  "language_info": {
   "codemirror_mode": {
    "name": "ipython",
    "version": 2
   },
   "file_extension": ".py",
   "mimetype": "text/x-python",
   "name": "python",
   "nbconvert_exporter": "python",
   "pygments_lexer": "ipython2",
   "version": "2.7.6"
  }
 },
 "nbformat": 4,
 "nbformat_minor": 0
}
