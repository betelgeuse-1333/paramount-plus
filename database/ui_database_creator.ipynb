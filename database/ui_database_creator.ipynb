{
 "cells": [
  {
   "cell_type": "markdown",
   "source": [
    "In order to run this , the user will need to have postgres loaded onto their system.\n",
    "\n",
    "Once installed they will need to create a user with create database and create table permissions.\n",
    "\n",
    "If your user and password values differ from the default, set cust_constants to `Y` and update the values in the dictionary `constants`\n",
    "\n",
    "To use the system defaults, simply set the variable cust_constants =`N`"
   ],
   "metadata": {
    "collapsed": false
   }
  },
  {
   "cell_type": "code",
   "execution_count": 1,
   "outputs": [
    {
     "name": "stderr",
     "output_type": "stream",
     "text": [
      "Setting default log level to \"WARN\".\n",
      "To adjust logging level use sc.setLogLevel(newLevel). For SparkR, use setLogLevel(newLevel).\n",
      "23/05/02 01:21:08 WARN NativeCodeLoader: Unable to load native-hadoop library for your platform... using builtin-java classes where applicable\n",
      "/Users/David/Documents/repos/paramountplus/venv/lib/python3.9/site-packages/pyspark/sql/context.py:112: FutureWarning: Deprecated in 3.0.0. Use SparkSession.builder.getOrCreate() instead.\n",
      "  warnings.warn(\n"
     ]
    },
    {
     "ename": "GitError",
     "evalue": "Repository not found at .",
     "output_type": "error",
     "traceback": [
      "\u001B[0;31m---------------------------------------------------------------------------\u001B[0m",
      "\u001B[0;31mGitError\u001B[0m                                  Traceback (most recent call last)",
      "Cell \u001B[0;32mIn[1], line 1\u001B[0m\n\u001B[0;32m----> 1\u001B[0m \u001B[38;5;28;01mfrom\u001B[39;00m \u001B[38;5;21;01mconfig\u001B[39;00m \u001B[38;5;28;01mimport\u001B[39;00m DbConfig\n\u001B[1;32m      2\u001B[0m \u001B[38;5;28;01mfrom\u001B[39;00m \u001B[38;5;21;01mdatabase\u001B[39;00m \u001B[38;5;28;01mimport\u001B[39;00m postgres_create_database \u001B[38;5;28;01mas\u001B[39;00m pcd\n\u001B[1;32m      3\u001B[0m \u001B[38;5;28;01mfrom\u001B[39;00m \u001B[38;5;21;01mdatabase\u001B[39;00m \u001B[38;5;28;01mimport\u001B[39;00m postgres_create_tables \u001B[38;5;28;01mas\u001B[39;00m pct\n",
      "File \u001B[0;32m~/Documents/repos/paramountplus/config.py:3\u001B[0m\n\u001B[1;32m      1\u001B[0m \u001B[38;5;28;01mimport\u001B[39;00m \u001B[38;5;21;01mutilities\u001B[39;00m\n\u001B[0;32m----> 3\u001B[0m branch \u001B[38;5;241m=\u001B[39m \u001B[43mutilities\u001B[49m\u001B[38;5;241;43m.\u001B[39;49m\u001B[43mcurr_branch\u001B[49m\u001B[43m(\u001B[49m\u001B[43m)\u001B[49m\n\u001B[1;32m      5\u001B[0m \u001B[38;5;28;01mif\u001B[39;00m branch \u001B[38;5;241m==\u001B[39m \u001B[38;5;124m\"\u001B[39m\u001B[38;5;124mmain\u001B[39m\u001B[38;5;124m\"\u001B[39m:\n\u001B[1;32m      6\u001B[0m     schema \u001B[38;5;241m=\u001B[39m \u001B[38;5;124m\"\u001B[39m\u001B[38;5;124mprod\u001B[39m\u001B[38;5;124m\"\u001B[39m\n",
      "File \u001B[0;32m~/Documents/repos/paramountplus/utilities.py:11\u001B[0m, in \u001B[0;36mcurr_branch\u001B[0;34m(branch)\u001B[0m\n\u001B[1;32m      9\u001B[0m \u001B[38;5;28;01mdef\u001B[39;00m \u001B[38;5;21mcurr_branch\u001B[39m(branch\u001B[38;5;241m=\u001B[39m\u001B[38;5;124m'\u001B[39m\u001B[38;5;124mnone\u001B[39m\u001B[38;5;124m'\u001B[39m):\n\u001B[1;32m     10\u001B[0m     \u001B[38;5;28;01mif\u001B[39;00m branch \u001B[38;5;241m==\u001B[39m \u001B[38;5;124m'\u001B[39m\u001B[38;5;124mnone\u001B[39m\u001B[38;5;124m'\u001B[39m:\n\u001B[0;32m---> 11\u001B[0m         branch \u001B[38;5;241m=\u001B[39m \u001B[43mRepository\u001B[49m\u001B[43m(\u001B[49m\u001B[38;5;124;43m'\u001B[39;49m\u001B[38;5;124;43m.\u001B[39;49m\u001B[38;5;124;43m'\u001B[39;49m\u001B[43m)\u001B[49m\u001B[38;5;241m.\u001B[39mhead\u001B[38;5;241m.\u001B[39mshorthand\n\u001B[1;32m     12\u001B[0m     \u001B[38;5;28;01melse\u001B[39;00m:\n\u001B[1;32m     13\u001B[0m         branch \u001B[38;5;241m=\u001B[39m branch\n",
      "File \u001B[0;32m~/Documents/repos/paramountplus/venv/lib/python3.9/site-packages/pygit2/repository.py:1759\u001B[0m, in \u001B[0;36mRepository.__init__\u001B[0;34m(self, path, flags)\u001B[0m\n\u001B[1;32m   1757\u001B[0m     \u001B[38;5;28;01mif\u001B[39;00m \u001B[38;5;129;01mnot\u001B[39;00m \u001B[38;5;28misinstance\u001B[39m(path, \u001B[38;5;28mstr\u001B[39m):\n\u001B[1;32m   1758\u001B[0m         path \u001B[38;5;241m=\u001B[39m path\u001B[38;5;241m.\u001B[39mdecode(\u001B[38;5;124m'\u001B[39m\u001B[38;5;124mutf-8\u001B[39m\u001B[38;5;124m'\u001B[39m)\n\u001B[0;32m-> 1759\u001B[0m     path_backend \u001B[38;5;241m=\u001B[39m \u001B[43minit_file_backend\u001B[49m\u001B[43m(\u001B[49m\u001B[43mpath\u001B[49m\u001B[43m,\u001B[49m\u001B[43m \u001B[49m\u001B[43mflags\u001B[49m\u001B[43m)\u001B[49m\n\u001B[1;32m   1760\u001B[0m     \u001B[38;5;28msuper\u001B[39m()\u001B[38;5;241m.\u001B[39m\u001B[38;5;21m__init__\u001B[39m(path_backend)\n\u001B[1;32m   1761\u001B[0m \u001B[38;5;28;01melse\u001B[39;00m:\n",
      "\u001B[0;31mGitError\u001B[0m: Repository not found at ."
     ]
    }
   ],
   "source": [
    "from config import DbConfig\n",
    "from database import postgres_create_database as pcd\n",
    "from database import postgres_create_tables as pct"
   ],
   "metadata": {
    "collapsed": false
   }
  },
  {
   "cell_type": "code",
   "execution_count": null,
   "outputs": [],
   "source": [
    "cust_constants = \"N\"\n",
    "\n",
    "db_constants = {\"host\": \"localhost\",\n",
    "                \"port\": 5432,\n",
    "                \"user\": \"\",\n",
    "                \"password\": \"\",\n",
    "                \"template_database\":\"template1\",\n",
    "                \"schema\":\"\",\n",
    "                \"database\":\"paramountplus\",\n",
    "                \"table_names\":{\"post_meta\":\"post_meta\",\n",
    "                               \"comment_text\":\"comment_text\",\n",
    "                               \"comment_info\":\"comment_info\"}}"
   ],
   "metadata": {
    "collapsed": false
   }
  },
  {
   "cell_type": "code",
   "execution_count": null,
   "outputs": [],
   "source": [
    "if cust_constants ==\"N\":\n",
    "    config_obj = DbConfig()\n",
    "else:\n",
    "    config_obj = DbConfig(config=db_constants)"
   ],
   "metadata": {
    "collapsed": false
   }
  },
  {
   "cell_type": "markdown",
   "source": [
    "Begin by creating the paramountplus database"
   ],
   "metadata": {
    "collapsed": false
   }
  },
  {
   "cell_type": "code",
   "execution_count": null,
   "outputs": [],
   "source": [
    "pcd.create_database(config_obj)\n",
    "pcd.create_schema(config_obj)"
   ],
   "metadata": {
    "collapsed": false
   }
  },
  {
   "cell_type": "markdown",
   "source": [
    "Next Create the 3 tables needed to house the data sets"
   ],
   "metadata": {
    "collapsed": false
   }
  },
  {
   "cell_type": "code",
   "execution_count": null,
   "outputs": [],
   "source": [
    "pct.create_post_meta_table()\n",
    "pct.create_comment_text_table()\n",
    "pct.create_comment_info_table()"
   ],
   "metadata": {
    "collapsed": false
   }
  },
  {
   "cell_type": "code",
   "execution_count": null,
   "outputs": [],
   "source": [],
   "metadata": {
    "collapsed": false
   }
  }
 ],
 "metadata": {
  "kernelspec": {
   "display_name": "Python 3",
   "language": "python",
   "name": "python3"
  },
  "language_info": {
   "codemirror_mode": {
    "name": "ipython",
    "version": 2
   },
   "file_extension": ".py",
   "mimetype": "text/x-python",
   "name": "python",
   "nbconvert_exporter": "python",
   "pygments_lexer": "ipython2",
   "version": "2.7.6"
  }
 },
 "nbformat": 4,
 "nbformat_minor": 0
}
