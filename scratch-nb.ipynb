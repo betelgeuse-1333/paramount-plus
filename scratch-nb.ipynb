{
 "cells": [
  {
   "cell_type": "code",
   "execution_count": 18,
   "metadata": {
    "collapsed": true
   },
   "outputs": [],
   "source": [
    "from pyspark.sql.functions import *\n",
    "from pyspark import SparkContext\n",
    "from pyspark.sql import SQLContext\n",
    "from pyspark.sql.functions import explode"
   ]
  },
  {
   "cell_type": "code",
   "execution_count": 4,
   "outputs": [],
   "source": [],
   "metadata": {
    "collapsed": false
   }
  },
  {
   "cell_type": "code",
   "execution_count": 5,
   "outputs": [
    {
     "name": "stderr",
     "output_type": "stream",
     "text": [
      "Setting default log level to \"WARN\".\n",
      "To adjust logging level use sc.setLogLevel(newLevel). For SparkR, use setLogLevel(newLevel).\n",
      "23/04/26 13:51:21 WARN NativeCodeLoader: Unable to load native-hadoop library for your platform... using builtin-java classes where applicable\n",
      "/Users/David/Documents/repos/pythonProject/venv/lib/python3.9/site-packages/pyspark/sql/context.py:112: FutureWarning: Deprecated in 3.0.0. Use SparkSession.builder.getOrCreate() instead.\n",
      "  warnings.warn(\n",
      "/Users/David/Documents/repos/pythonProject/venv/lib/python3.9/site-packages/pyspark/sql/context.py:112: FutureWarning: Deprecated in 3.0.0. Use SparkSession.builder.getOrCreate() instead.\n",
      "  warnings.warn(\n"
     ]
    }
   ],
   "source": [
    "sc = SparkContext.getOrCreate()\n",
    "spark = SQLContext(sc)"
   ],
   "metadata": {
    "collapsed": false
   }
  },
  {
   "cell_type": "code",
   "execution_count": 23,
   "outputs": [
    {
     "name": "stdout",
     "output_type": "stream",
     "text": [
      "+--------------------+--------------------+\n",
      "|             message|                h_id|\n",
      "+--------------------+--------------------+\n",
      "|bxxxx. bx gd. xd ...|MTAxNTUwNjQyMjA5O...|\n",
      "|lxdy Dvd x.. mxxd xh|MTAxNTUwNjQyMjA5O...|\n",
      "|                  😂|MTAxNTUwNjQyMjA5O...|\n",
      "|cgxxxx, y qx wxx ...|MTAxNTUwNjQyMzIyO...|\n",
      "|bc xh xw gy x vx ...|MTAxNTUwNjQyMzIyO...|\n",
      "|blv x vl d xlly  ...|MTAxNTUwNjQyODYzM...|\n",
      "|x p xxx Hv mx hx ...|MTAxNTUwNjQyODYzM...|\n",
      "|mm!! lxx cxlly  '...|MTAxNTUwNjQyODY3M...|\n",
      "|'d 😕😕😕 wld lkx...|MTAxNTUwNjQzNjQxN...|\n",
      "|bby Yx myb..... mbxx|MTAxNTUwNjQzNjQxN...|\n",
      "+--------------------+--------------------+\n",
      "only showing top 10 rows\n",
      "\n"
     ]
    }
   ],
   "source": [
    "test_ct = spark.read.csv(\"data/comment_text\", header=True)\n",
    "test_ct.show(10)"
   ],
   "metadata": {
    "collapsed": false
   }
  },
  {
   "cell_type": "code",
   "execution_count": 24,
   "outputs": [
    {
     "name": "stderr",
     "output_type": "stream",
     "text": [
      "                                                                                \r"
     ]
    },
    {
     "name": "stdout",
     "output_type": "stream",
     "text": [
      "+--------------------+--------------------+\n",
      "|                h_id|               posts|\n",
      "+--------------------+--------------------+\n",
      "|MTE0MDQzMTc1MzUyMDI3|{[{{[{0, null, 20...|\n",
      "+--------------------+--------------------+\n",
      "only showing top 1 row\n",
      "\n"
     ]
    }
   ],
   "source": [
    "test_ci = spark.read.json(\"data/comment_info_jsonl\")\n",
    "test_ci.show(1)"
   ],
   "metadata": {
    "collapsed": false
   }
  },
  {
   "cell_type": "code",
   "execution_count": 21,
   "outputs": [
    {
     "name": "stdout",
     "output_type": "stream",
     "text": [
      "+-------------------+----+--------------------+--------------------+-------------------+\n",
      "|       created_time|type|           post_h_id|           page_h_id|          name_h_id|\n",
      "+-------------------+----+--------------------+--------------------+-------------------+\n",
      "|2018-01-18 17:05:19|   v|MTU2NzI5ODkwMzU0M...|MTU2NzI5ODkwMzU0M...|QW5vdGhlciBQZXJpb2Q|\n",
      "|2018-01-18 17:05:19|   v|MTU2NzI5ODkwMzU0M...|MTU2NzI5ODkwMzU0M...|QW5vdGhlciBQZXJpb2Q|\n",
      "|2018-01-18 17:05:19|   v|MTU2NzI5ODkwMzU0M...|MTU2NzI5ODkwMzU0M...|QW5vdGhlciBQZXJpb2Q|\n",
      "|2018-01-18 17:05:19|   v|MTU2NzI5ODkwMzU0M...|MTU2NzI5ODkwMzU0M...|QW5vdGhlciBQZXJpb2Q|\n",
      "|2018-01-20 22:00:00|   l|NjIyMDA0ODM3NF8xM...|      NjIyMDA0ODM3NA|               Vkgx|\n",
      "+-------------------+----+--------------------+--------------------+-------------------+\n",
      "only showing top 5 rows\n",
      "\n"
     ]
    }
   ],
   "source": [
    "test_pm = spark.read.parquet(\"data/post_meta\")\n",
    "test_pm.show(5)"
   ],
   "metadata": {
    "collapsed": false
   }
  },
  {
   "cell_type": "code",
   "execution_count": null,
   "outputs": [],
   "source": [
    "\n"
   ],
   "metadata": {
    "collapsed": false
   }
  }
 ],
 "metadata": {
  "kernelspec": {
   "display_name": "Python 3",
   "language": "python",
   "name": "python3"
  },
  "language_info": {
   "codemirror_mode": {
    "name": "ipython",
    "version": 2
   },
   "file_extension": ".py",
   "mimetype": "text/x-python",
   "name": "python",
   "nbconvert_exporter": "python",
   "pygments_lexer": "ipython2",
   "version": "2.7.6"
  }
 },
 "nbformat": 4,
 "nbformat_minor": 0
}
